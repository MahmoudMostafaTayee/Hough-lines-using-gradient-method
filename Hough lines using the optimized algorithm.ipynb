{
 "cells": [
  {
   "cell_type": "markdown",
   "metadata": {},
   "source": [
    "## The magic starts here "
   ]
  },
  {
   "cell_type": "markdown",
   "metadata": {},
   "source": [
    "### Some useful tutorials\n",
    "https://arxiv.org/ftp/arxiv/papers/1510/1510.04863.pdf\n",
    "\n",
    "https://docs.opencv.org/3.4/d9/db0/tutorial_hough_lines.html\n",
    "\n",
    "https://theailearner.com/2020/11/20/hough-line-transform/"
   ]
  },
  {
   "cell_type": "code",
   "execution_count": 1,
   "metadata": {},
   "outputs": [],
   "source": [
    "import cv2 as cv\n",
    "import numpy as np\n",
    "import matplotlib.pyplot as plt\n",
    "import math"
   ]
  },
  {
   "cell_type": "code",
   "execution_count": 2,
   "metadata": {},
   "outputs": [],
   "source": [
    "img = cv.imread(r\"92f878e2-fff8-448d-bb64-14eb79ef9d8f.jpg\")"
   ]
  },
  {
   "cell_type": "code",
   "execution_count": 3,
   "metadata": {},
   "outputs": [
    {
     "data": {
      "image/png": "[encoded data removed]",
      "text/plain": [
       "<Figure size 360x360 with 1 Axes>"
      ]
     },
     "metadata": {
      "needs_background": "light"
     },
     "output_type": "display_data"
    }
   ],
   "source": [
    "plt.figure(figsize=(5, 5))\n",
    "plt.imshow(img)\n",
    "plt.title(\"The original image\")\n",
    "plt.show()"
   ]
  },
  {
   "cell_type": "code",
   "execution_count": 4,
   "metadata": {},
   "outputs": [],
   "source": [
    "#The following function is to get the edges of your picture as well as the gradeints in both x and y directions.\n",
    "def CannyandGradients(image, thr1, thr2):\n",
    "    edges = cv.Canny(image,thr1,thr2)\n",
    "    sobelx = cv.Sobel(image,cv.CV_64F,1,0,ksize=5)\n",
    "    sobely = cv.Sobel(image,cv.CV_64F,0,1,ksize=5)\n",
    "    return edges, sobelx, sobely\n",
    "\n",
    "#The is function mainly is to get the rho, theta and the accumulation function.\n",
    "def Hough(image):\n",
    "    \n",
    "    gray = cv.cvtColor(image, cv.COLOR_BGR2GRAY) #To deal with our image as a gray image not colored.\n",
    "    edges, Gx, Gy = CannyandGradients(gray, 190, 200) #Get the edges and the gradients of our picture in both x and y directions.\n",
    "    #I just want to emphasize that here we want to get the edges of our picutre because these represent the lines that I want to get their equations.\n",
    "    \n",
    "    x, y = np.meshgrid(range(gray.shape[1]), range(gray.shape[0])) #Using a meshgrid to use in calculaing rho in our equation.\n",
    "    theta = np.arctan2(Gy, Gx) #Theta equation.\n",
    "    rho = x * np.cos(theta) + y * np.sin(theta) #Rho equation.\n",
    "\n",
    "    number_of_r_samples = edges.shape[0] #Number of steps to map the range of rhos to it(Quantization).\n",
    "    number_of_theta_samples = edges.shape[1] #Number of steps to map the range of thetas to it(Quantization).\n",
    "    H = np.zeros((number_of_r_samples, number_of_theta_samples)) #Intializing the accumulation array with zeros.\n",
    "    \n",
    "    x_max = edges.shape[0] #The number of rows.\n",
    "    y_max = edges.shape[1] #The number of columns.\n",
    "    \n",
    "    r_min = 0.0 #The minimum value of rhos.\n",
    "    r_max = math.hypot(x_max, y_max) #The maximum value of rhos.\n",
    "    \n",
    "    theta_max = 1.0 * math.pi #The maximum value of thetas.\n",
    "    theta_min = 0.0 #The minimum value of thetas.\n",
    "    ###\n",
    "    \n",
    "    for i in range(x_max): #iterating on the whole rows.\n",
    "        for j in range(y_max): #Iterating on the whole columns.\n",
    "            if edges[i, j]>100: #Dealing with only the values that is more than 100, which are our edges.\n",
    "                    r_index = int(rho[i, j] * (number_of_r_samples-1)/ r_max) #Mapping the rho in the edge location to an index within the accumulation numpy array.\n",
    "                    theta_index = int(theta[i, j] * (number_of_theta_samples-1)/ theta_max) #Mapping the theta in the edge location to an index within the accumulation numpy array.\n",
    "                    \n",
    "                    #The following line is the line which did all the magic XD\n",
    "                    if r_index>=0 and theta_index>=0: #Taking only the values that gives positive indeces because apparently we don't have negative indeces.\n",
    "                        H[r_index, theta_index] += 1 #Accumulating that corresponding location to give it a higher weight as it maps to an edge.\n",
    "                    \n",
    "    \n",
    "    return H, theta, rho"
   ]
  },
  {
   "cell_type": "code",
   "execution_count": 5,
   "metadata": {},
   "outputs": [],
   "source": [
    "#Just calling the function.\n",
    "acc, theta, rho = Hough(img)"
   ]
  },
  {
   "cell_type": "code",
   "execution_count": 6,
   "metadata": {},
   "outputs": [
    {
     "data": {
      "image/png": "[encoded data removed]",
      "text/plain": [
       "<Figure size 360x360 with 1 Axes>"
      ]
     },
     "metadata": {
      "needs_background": "light"
     },
     "output_type": "display_data"
    }
   ],
   "source": [
    "#Plotting the accumulator\n",
    "plt.figure(figsize=(5, 5))\n",
    "plt.imshow(acc)\n",
    "plt.title(\"Acccumulator\")\n",
    "plt.show()"
   ]
  },
  {
   "cell_type": "code",
   "execution_count": 7,
   "metadata": {},
   "outputs": [],
   "source": [
    "#The following function is to retrieve indeces of a specific number of peaks out of our accumulator wich maps to the most voted lines.\n",
    "def houghpeaks(H,numpeaks):\n",
    "    col = H.shape[1]\n",
    "    b = H.reshape(-1)\n",
    "    x = b.argsort()[-1 * numpeaks:][::-1]\n",
    "    indeces = []\n",
    "    for i in x:\n",
    "        indeces += [(i//col, i%col)]\n",
    "    return indeces"
   ]
  },
  {
   "cell_type": "code",
   "execution_count": 8,
   "metadata": {},
   "outputs": [],
   "source": [
    "#Just calling the function to get the peaks.\n",
    "ind = np.array(houghpeaks(acc,11))\n",
    "y, x = ind.T"
   ]
  },
  {
   "cell_type": "code",
   "execution_count": 9,
   "metadata": {},
   "outputs": [
    {
     "data": {
      "image/png": "[encoded data removed]",
      "text/plain": [
       "<Figure size 432x288 with 1 Axes>"
      ]
     },
     "metadata": {
      "needs_background": "light"
     },
     "output_type": "display_data"
    }
   ],
   "source": [
    "#Plotting the peaks within the accumulator.\n",
    "plt.imshow(acc)\n",
    "plt.plot(x, y, 'ro')\n",
    "plt.title(\"HL Accumulator\")\n",
    "plt.show()"
   ]
  },
  {
   "cell_type": "code",
   "execution_count": 10,
   "metadata": {},
   "outputs": [],
   "source": [
    "#The following functoin is to map the indeces to specific rhos and thetas then get the equtions of these lines.\n",
    "def  houghlines(BW,theta,rho,peaks):\n",
    "    max_range = BW.shape[1]\n",
    "    y, x = peaks.T #Just unzipping the x values, column numbers, and y values, row numbers, away from each other.\n",
    "    \n",
    "    x_max = BW.shape[0] #The number of rows.\n",
    "    y_max = BW.shape[1] #The number of columns.\n",
    "    \n",
    "    r_max = math.hypot(x_max, y_max) #The maximum value of rhos.\n",
    "    theta_max = 1.0 * math.pi #The maximum value of thetas.\n",
    "    r_dim = BW.shape[0]  #Number of steps to map the range of rhos to it(Quantization).\n",
    "    theta_dim = BW.shape[1] #Number of steps to map the range of thetas to it(Quantization).\n",
    "    \n",
    "    line_eq = []\n",
    "    for i, j in zip(x, y):\n",
    "        \n",
    "        r = round( (1.0 * j * r_max ) / r_dim,2) #Mapping the indeces to a specific value of rho.\n",
    "        thetaa = round( (1.0 * i * theta_max) / theta_dim,2) #Mapping the indeces to a specific value of theta.\n",
    "        \n",
    "        #getting the equatoin of the line.\n",
    "        #The equation used is from the following tutorial, lines in the Polar system.\n",
    "        # https://docs.opencv.org/3.4/d9/db0/tutorial_hough_lines.html\n",
    "        line_eq += [((-1 * np.cos(thetaa)/(np.sin(thetaa+2.220446049250313e-16))), (r/(np.sin(thetaa+2.220446049250313e-16))),)]\n",
    "        \n",
    "    return line_eq"
   ]
  },
  {
   "cell_type": "code",
   "execution_count": 11,
   "metadata": {},
   "outputs": [],
   "source": [
    "#Just calling the function to get the lines.\n",
    "line_eq = houghlines(img, rho, theta, ind)"
   ]
  },
  {
   "cell_type": "code",
   "execution_count": 12,
   "metadata": {},
   "outputs": [
    {
     "data": {
      "image/png": "[encoded data removed]",
      "text/plain": [
       "<Figure size 432x288 with 1 Axes>"
      ]
     },
     "metadata": {
      "needs_background": "light"
     },
     "output_type": "display_data"
    }
   ],
   "source": [
    "#Plotting the lines wihtin the picture.\n",
    "plt.imshow(img)\n",
    "plt.xlim([0, 339])\n",
    "plt.ylim([369, 0])\n",
    "x = np.arange(369)\n",
    "for i in line_eq:\n",
    "    y = i[0] * x + i[1]\n",
    "    plt.plot(x, y)"
   ]
  },
  {
   "cell_type": "code",
   "execution_count": null,
   "metadata": {},
   "outputs": [],
   "source": []
  }
 ],
 "metadata": {
  "kernelspec": {
   "display_name": "Python 3",
   "language": "python",
   "name": "python3"
  },
  "language_info": {
   "codemirror_mode": {
    "name": "ipython",
    "version": 3
   },
   "file_extension": ".py",
   "mimetype": "text/x-python",
   "name": "python",
   "nbconvert_exporter": "python",
   "pygments_lexer": "ipython3",
   "version": "3.8.5"
  }
 },
 "nbformat": 4,
 "nbformat_minor": 5
}
